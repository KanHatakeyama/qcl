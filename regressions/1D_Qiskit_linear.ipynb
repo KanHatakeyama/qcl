{
 "cells": [
  {
   "cell_type": "markdown",
   "metadata": {},
   "source": [
    "# Prediction by an actual quantum computer\n",
    "- The ibm server is crowded. it will take long hours"
   ]
  },
  {
   "cell_type": "code",
   "execution_count": 1,
   "metadata": {},
   "outputs": [],
   "source": [
    "%load_ext autoreload\n",
    "%autoreload 2\n",
    "from qcl.Qiskit.QiskitRegressor import QiskitRegressor\n",
    "import numpy as np\n",
    "from qcl.regressors.StandardQCLRegressor import StandardQCLRegressor\n",
    "from qcl.gates.NeighborCNOTRotationGates import NeighborCNOTRotationGates \n",
    "from qcl.Encoders.WEncoder import WEncoder\n",
    "from qcl.Encoders.XYEncoder import XYEncoder\n",
    "from qcl.utils.solver import basinhopping_solver\n",
    "\n",
    "import matplotlib.pyplot as plt\n",
    "\n",
    "from qcl.testing.OneDimDataset import prepare_dataset,eval"
   ]
  },
  {
   "cell_type": "code",
   "execution_count": 78,
   "metadata": {},
   "outputs": [
    {
     "name": "stdout",
     "output_type": "stream",
     "text": [
      "loss 0.000000000524329\n"
     ]
    },
    {
     "data": {
      "text/plain": [
       "[0.04214608860257691,\n",
       " 0.11640159721292903,\n",
       " 0.1267359999999999,\n",
       " 0.000576000000000001]"
      ]
     },
     "execution_count": 78,
     "metadata": {},
     "output_type": "execute_result"
    },
    {
     "data": {
      "image/png": "[encoded data removed]",
      "text/plain": [
       "<Figure size 300x300 with 1 Axes>"
      ]
     },
     "metadata": {
      "needs_background": "light"
     },
     "output_type": "display_data"
    },
    {
     "data": {
      "image/png": "[encoded data removed]",
      "text/plain": [
       "<Figure size 300x300 with 1 Axes>"
      ]
     },
     "metadata": {
      "needs_background": "light"
     },
     "output_type": "display_data"
    }
   ],
   "source": [
    "depth=4\n",
    "n_qubit=2\n",
    "n=10\n",
    "\n",
    "mode=\"linear\"\n",
    "#mode=\"sin\"\n",
    "# normal simulation\n",
    "\n",
    "def custom_basinhopping_solver(cost_func, theta_0, n_iter=0):\n",
    "    return basinhopping_solver(cost_func, theta_0, n_iter=n_iter, verbose=True,xmax=1,xmin=-1)\n",
    "\n",
    "\n",
    "tr_X,tr_y,te_inner_X,te_inner_y,te_low_X,te_low_y,te_high_X,te_high_y,act_X,act_y=prepare_dataset(n_all_record=n,mode=mode,plot=False)\n",
    "\n",
    "st_model=StandardQCLRegressor(n_qubit=n_qubit,x_dim=1,\n",
    "                            vqe_gates=NeighborCNOTRotationGates(n_qubit=n_qubit,depth=depth,add_y_gates=True),\n",
    "                            encoder=XYEncoder(n_qubit=n_qubit),\n",
    "                            solver=custom_basinhopping_solver,)\n",
    "\n",
    "st_model.fit(tr_X,tr_y)\n",
    "\n",
    "plt.figure(figsize=(2,2),dpi=150)\n",
    "ax = plt.gca()\n",
    "eval(ax,st_model,tr_X,tr_y,te_inner_X,te_inner_y,te_low_X,te_low_y,te_high_X,te_high_y,act_X,act_y)\n",
    "\n",
    "\n",
    "# predict by sampling via Qiqskit (simulation)\n",
    "# response becomes more different from qulacs when circuit becomes laeger\n",
    "\n",
    "\n",
    "# copy trained data\n",
    "model=QiskitRegressor(n_qubit=n_qubit,x_dim=1,depth=depth,shots=1000,theta_list=st_model.vqe_gates.get_params(),add_y_gates=True,flip=True)\n",
    "\n",
    "#after copy\n",
    "plt.figure(figsize=(2,2),dpi=150)\n",
    "ax = plt.gca()\n",
    "eval(ax,model,tr_X,tr_y,te_inner_X,te_inner_y,te_low_X,te_low_y,te_high_X,te_high_y,act_X,act_y,plot=True)\n"
   ]
  },
  {
   "cell_type": "code",
   "execution_count": 79,
   "metadata": {},
   "outputs": [
    {
     "name": "stdout",
     "output_type": "stream",
     "text": [
      "\n",
      "###############################################################################\n",
      ">> 0\n",
      "           ___     ___     ___     ___     ___     ___     ___             ___ \n",
      "          |pRX|   |pRY|   |pRX|   |CX |   |pRX|   |pRY|   |pRX|           |pRX|\n",
      "----●-----|   |---|   |---|   |---|   |---|   |---|   |---|   |-----●-----|   |\n",
      "    |     |___|   |___|   |___|   |___|   |___|   |___|   |___|     |     |___|\n",
      "   _|_     ___     ___     ___      |      ___     ___     ___     _|_     ___ \n",
      "  |CX |   |pRX|   |pRY|   |pRX|     |     |pRX|   |pRY|   |pRX|   |CX |   |pRX|\n",
      "--|   |---|   |---|   |---|   |-----●-----|   |---|   |---|   |---|   |---|   |\n",
      "  |___|   |___|   |___|   |___|           |___|   |___|   |___|   |___|   |___|\n",
      "\n",
      "###############################################################################\n",
      ">> 1\n",
      "    ___     ___     ___     ___     ___     ___   \n",
      "   |pRY|   |pRX|   |CX |   |pRX|   |pRY|   |pRX|  \n",
      "---|   |---|   |---|   |---|   |---|   |---|   |--\n",
      "   |___|   |___|   |___|   |___|   |___|   |___|  \n",
      "    ___     ___      |                            \n",
      "   |pRY|   |pRX|     |                            \n",
      "---|   |---|   |-----●----------------------------\n",
      "   |___|   |___|                                  \n",
      "\n",
      "###############################################################################\n",
      "     ┌───────┐┌───────┐     ┌─────────────┐┌────────────┐ ┌────────────┐┌───┐»\n",
      "q_0: ┤ Rx(1) ├┤ Ry(1) ├──■──┤ Rx(0.15107) ├┤ Ry(1.7353) ├─┤ Rx(3.4142) ├┤ X ├»\n",
      "     ├───────┤├───────┤┌─┴─┐├─────────────┤├────────────┤┌┴────────────┤└─┬─┘»\n",
      "q_1: ┤ Rx(1) ├┤ Ry(1) ├┤ X ├┤ Rx(0.61032) ├┤ Ry(1.1647) ├┤ Rx(-0.2133) ├──■──»\n",
      "     └───────┘└───────┘└───┘└─────────────┘└────────────┘└─────────────┘     »\n",
      "c: 2/════════════════════════════════════════════════════════════════════════»\n",
      "                                                                             »\n",
      "«     ┌────────────┐┌────────────┐┌────────────┐      ┌────────────┐»\n",
      "«q_0: ┤ Rx(2.5763) ├┤ Ry(1.9839) ├┤ Rx(2.2155) ├──■───┤ Rx(1.1702) ├»\n",
      "«     ├────────────┤└┬──────────┬┘├───────────┬┘┌─┴─┐┌┴────────────┤»\n",
      "«q_1: ┤ Rx(2.3737) ├─┤ Ry(2.02) ├─┤ Rx(1.736) ├─┤ X ├┤ Rx(0.73209) ├»\n",
      "«     └────────────┘ └──────────┘ └───────────┘ └───┘└─────────────┘»\n",
      "«c: 2/══════════════════════════════════════════════════════════════»\n",
      "«                                                                   »\n",
      "«     ┌─────────────┐┌────────────┐┌───┐┌─────────────┐┌─────────────┐»\n",
      "«q_0: ┤ Ry(0.94706) ├┤ Rx(2.8406) ├┤ X ├┤ Rx(0.78534) ├┤ Ry(0.75047) ├»\n",
      "«     └┬────────────┤├────────────┤└─┬─┘└─────────────┘└─────────────┘»\n",
      "«q_1: ─┤ Ry(2.4163) ├┤ Rx(2.0388) ├──■────────────────────────────────»\n",
      "«      └────────────┘└────────────┘                                   »\n",
      "«c: 2/════════════════════════════════════════════════════════════════»\n",
      "«                                                                     »\n",
      "«     ┌─────────────┐┌─┐\n",
      "«q_0: ┤ Rx(0.57511) ├┤M├\n",
      "«     └─────────────┘└╥┘\n",
      "«q_1: ────────────────╫─\n",
      "«                     ║ \n",
      "«c: 2/════════════════╩═\n",
      "«                     0 \n",
      "[0.15106968242723068, 1.735329815016903, 3.414167722501607, 0.6103164132705106, 1.164655488307907, -0.21330182754874222, 2.576254859510881, 1.9838898947462158, 2.215514552928436, 2.3737010681881725, 2.0200173852626286, 1.735991843302467, 1.170204395948622, 0.9470649999248801, 2.8406120825312318, 0.73208956532897, 2.416324394524519, 2.03881578652349, 0.785340304760908, 0.7504718630726251, 0.5751101842175237]\n"
     ]
    }
   ],
   "source": [
    "#compare circuits\n",
    "from qulacsvis import circuit_drawer\n",
    "circuit_drawer(st_model.vqe_gates.circuit)\n",
    "print(model.cicuit.draw())\n",
    "print(st_model.vqe_gates.get_params())\n"
   ]
  },
  {
   "cell_type": "code",
   "execution_count": 80,
   "metadata": {},
   "outputs": [
    {
     "name": "stderr",
     "output_type": "stream",
     "text": [
      "ibmqfactory.load_account:WARNING:2022-05-16 09:32:45,527: Credentials are already in use. The existing account in the session will be replaced.\n"
     ]
    },
    {
     "name": "stdout",
     "output_type": "stream",
     "text": [
      "initiated ibmq_quito\n",
      "[0.63697016] 0.242\n",
      "[0.98052684] 0.41200000000000003\n",
      "[-0.3429835] -0.33000000000000007\n",
      "[0.8206847] 0.20999999999999996\n",
      "[0.9783136] 0.41800000000000004\n",
      "[-0.58948333] -0.44199999999999995\n",
      "[0.2982493] 0.008000000000000007\n",
      "[-0.29041887] -0.266\n",
      "[-1.] -0.6200000000000001\n",
      "[1.] 0.552\n"
     ]
    },
    {
     "data": {
      "text/plain": [
       "[0.07723705218013419,\n",
       " 0.06125483418083966,\n",
       " 0.0576000000000001,\n",
       " 0.01081600000000002]"
      ]
     },
     "execution_count": 80,
     "metadata": {},
     "output_type": "execute_result"
    },
    {
     "data": {
      "image/png": "[encoded data removed]",
      "text/plain": [
       "<Figure size 300x300 with 1 Axes>"
      ]
     },
     "metadata": {
      "needs_background": "light"
     },
     "output_type": "display_data"
    }
   ],
   "source": [
    "#predict actual quantum computing (takes a very long time!)\n",
    "model.init_IBMQ(machine=\"ibmq_quito\")\n",
    "model.simulate=False\n",
    "\n",
    "#predict\n",
    "plt.figure(figsize=(2,2),dpi=150)\n",
    "ax = plt.gca()\n",
    "eval(ax,model,tr_X,tr_y,te_inner_X,te_inner_y,te_low_X,te_low_y,te_high_X,te_high_y,act_X,act_y,plot=True)"
   ]
  },
  {
   "cell_type": "code",
   "execution_count": null,
   "metadata": {},
   "outputs": [],
   "source": []
  }
 ],
 "metadata": {
  "interpreter": {
   "hash": "4c1a8ccffb77acebb7976972a0aae875eac3abc1a0a204ec305cf19b1a26ab81"
  },
  "kernelspec": {
   "display_name": "Python 3.9.12 ('qcl')",
   "language": "python",
   "name": "python3"
  },
  "language_info": {
   "codemirror_mode": {
    "name": "ipython",
    "version": 3
   },
   "file_extension": ".py",
   "mimetype": "text/x-python",
   "name": "python",
   "nbconvert_exporter": "python",
   "pygments_lexer": "ipython3",
   "version": "3.9.12"
  },
  "orig_nbformat": 4
 },
 "nbformat": 4,
 "nbformat_minor": 2
}
