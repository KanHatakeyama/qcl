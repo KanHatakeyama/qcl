{
 "cells": [
  {
   "cell_type": "markdown",
   "metadata": {},
   "source": [
    "# Prediction by an actual quantum computer\n",
    "- First, models should be trained qith Qulacs because of its higher accuracy and faster time\n",
    "- Second, predict values using Qiskit\n",
    "    - Simulator\n",
    "    - Real Quantum machine\n",
    "        - Account is needed\n",
    "        - The ibm server is crowded. it will take long hours"
   ]
  },
  {
   "cell_type": "code",
   "execution_count": 1,
   "metadata": {},
   "outputs": [],
   "source": [
    "%load_ext autoreload\n",
    "%autoreload 2\n",
    "from qcl.Qiskit.QiskitRegressor import QiskitRegressor\n",
    "import numpy as np\n",
    "from qcl.regressors.StandardQCLRegressor import StandardQCLRegressor\n",
    "from qcl.gates.NeighborCNOTRotationGates import NeighborCNOTRotationGates \n",
    "from qcl.Encoders.WEncoder import WEncoder\n",
    "from qcl.Encoders.XYEncoder import XYEncoder\n",
    "from qcl.utils.solver import basinhopping_solver\n",
    "\n",
    "import matplotlib.pyplot as plt\n",
    "\n",
    "from qcl.testing.OneDimDataset import prepare_dataset,eval\n",
    "from sklearn.metrics import mean_squared_error"
   ]
  },
  {
   "cell_type": "code",
   "execution_count": 25,
   "metadata": {},
   "outputs": [
    {
     "name": "stdout",
     "output_type": "stream",
     "text": [
      "loss 0.000041364049769\n"
     ]
    },
    {
     "data": {
      "text/plain": [
       "[0.11793016432395372,\n",
       " 0.13925597072916965,\n",
       " 0.010000000000000044,\n",
       " 1.0816000000000014]"
      ]
     },
     "execution_count": 25,
     "metadata": {},
     "output_type": "execute_result"
    },
    {
     "data": {
      "image/png": "[encoded data removed]",
      "text/plain": [
       "<Figure size 300x300 with 1 Axes>"
      ]
     },
     "metadata": {
      "needs_background": "light"
     },
     "output_type": "display_data"
    },
    {
     "data": {
      "image/png": "[encoded data removed]",
      "text/plain": [
       "<Figure size 300x300 with 1 Axes>"
      ]
     },
     "metadata": {
      "needs_background": "light"
     },
     "output_type": "display_data"
    }
   ],
   "source": [
    "depth=4\n",
    "n_qubit=2\n",
    "n=10\n",
    "\n",
    "mode=\"linear\"\n",
    "mode=\"sin\"\n",
    "# normal simulation\n",
    "\n",
    "def custom_basinhopping_solver(cost_func, theta_0, n_iter=0):\n",
    "    return basinhopping_solver(cost_func, theta_0, n_iter=n_iter, verbose=True,xmax=1,xmin=-1)\n",
    "\n",
    "\n",
    "tr_X,tr_y,te_inner_X,te_inner_y,te_low_X,te_low_y,te_high_X,te_high_y,act_X,act_y=prepare_dataset(n_all_record=n,mode=mode,plot=False)\n",
    "\n",
    "st_model=StandardQCLRegressor(n_qubit=n_qubit,x_dim=1,\n",
    "                            vqe_gates=NeighborCNOTRotationGates(\n",
    "                            n_qubit=n_qubit,\n",
    "                            depth=depth,\n",
    "                            add_y_gates=True),\n",
    "                            encoder=XYEncoder(n_qubit=n_qubit),\n",
    "                            solver=custom_basinhopping_solver,)\n",
    "\n",
    "st_model.fit(tr_X,tr_y)\n",
    "\n",
    "plt.figure(figsize=(2,2),dpi=150)\n",
    "ax = plt.gca()\n",
    "eval(ax,st_model,tr_X,tr_y,te_inner_X,te_inner_y,te_low_X,te_low_y,te_high_X,te_high_y,act_X,act_y)\n",
    "\n",
    "\n",
    "# predict by sampling via Qiqskit (simulation)\n",
    "# response becomes more different from qulacs when circuit becomes larger\n",
    "\n",
    "\n",
    "# copy trained data\n",
    "model=QiskitRegressor(n_qubit=n_qubit,x_dim=1,depth=depth,shots=1000,theta_list=st_model.vqe_gates.get_params(),scale_coeff=2)\n",
    "model=QiskitRegressor(n_qubit=n_qubit,x_dim=1,depth=depth,shots=1000,theta_list=st_model.vqe_gates.get_params(),add_y_gates=True)\n",
    "\n",
    "#after copy\n",
    "plt.figure(figsize=(2,2),dpi=150)\n",
    "ax = plt.gca()\n",
    "eval(ax,model,tr_X,tr_y,te_inner_X,te_inner_y,te_low_X,te_low_y,te_high_X,te_high_y,act_X,act_y,plot=True)\n"
   ]
  },
  {
   "cell_type": "code",
   "execution_count": 26,
   "metadata": {},
   "outputs": [
    {
     "name": "stdout",
     "output_type": "stream",
     "text": [
      "\n",
      "###############################################################################\n",
      ">> 0\n",
      "           ___     ___     ___     ___     ___     ___     ___             ___ \n",
      "          |pRX|   |pRY|   |pRX|   |CX |   |pRX|   |pRY|   |pRX|           |pRX|\n",
      "----●-----|   |---|   |---|   |---|   |---|   |---|   |---|   |-----●-----|   |\n",
      "    |     |___|   |___|   |___|   |___|   |___|   |___|   |___|     |     |___|\n",
      "   _|_     ___     ___     ___      |      ___     ___     ___     _|_     ___ \n",
      "  |CX |   |pRX|   |pRY|   |pRX|     |     |pRX|   |pRY|   |pRX|   |CX |   |pRX|\n",
      "--|   |---|   |---|   |---|   |-----●-----|   |---|   |---|   |---|   |---|   |\n",
      "  |___|   |___|   |___|   |___|           |___|   |___|   |___|   |___|   |___|\n",
      "\n",
      "###############################################################################\n",
      ">> 1\n",
      "    ___     ___     ___     ___     ___     ___   \n",
      "   |pRY|   |pRX|   |CX |   |pRX|   |pRY|   |pRX|  \n",
      "---|   |---|   |---|   |---|   |---|   |---|   |--\n",
      "   |___|   |___|   |___|   |___|   |___|   |___|  \n",
      "    ___     ___      |                            \n",
      "   |pRY|   |pRX|     |                            \n",
      "---|   |---|   |-----●----------------------------\n",
      "   |___|   |___|                                  \n",
      "\n",
      "###############################################################################\n",
      "     ┌───────┐┌───────┐     ┌─────────────┐┌────────────┐ ┌────────────┐ ┌───┐»\n",
      "q_0: ┤ Rx(1) ├┤ Ry(1) ├──■──┤ Rx(0.55276) ├┤ Ry(3.1442) ├─┤ Rx(1.0244) ├─┤ X ├»\n",
      "     ├───────┤├───────┤┌─┴─┐└┬───────────┬┘├────────────┤┌┴────────────┴┐└─┬─┘»\n",
      "q_1: ┤ Rx(1) ├┤ Ry(1) ├┤ X ├─┤ Rx(0.707) ├─┤ Ry(3.0039) ├┤ Rx(-0.27693) ├──■──»\n",
      "     └───────┘└───────┘└───┘ └───────────┘ └────────────┘└──────────────┘     »\n",
      "c: 2/═════════════════════════════════════════════════════════════════════════»\n",
      "                                                                              »\n",
      "«     ┌─────────────┐┌────────────┐┌────────────┐      ┌────────────┐»\n",
      "«q_0: ┤ Rx(0.68772) ├┤ Ry(1.5264) ├┤ Rx(1.2608) ├──■───┤ Rx(2.2746) ├»\n",
      "«     └┬────────────┤├────────────┤├────────────┤┌─┴─┐┌┴────────────┤»\n",
      "«q_1: ─┤ Rx(2.2719) ├┤ Ry(1.3266) ├┤ Rx(2.8305) ├┤ X ├┤ Rx(0.72837) ├»\n",
      "«      └────────────┘└────────────┘└────────────┘└───┘└─────────────┘»\n",
      "«c: 2/═══════════════════════════════════════════════════════════════»\n",
      "«                                                                    »\n",
      "«     ┌─────────────┐┌───────────┐ ┌───┐┌────────────┐┌────────────┐»\n",
      "«q_0: ┤ Ry(0.99913) ├┤ Rx(1.387) ├─┤ X ├┤ Rx(0.4053) ├┤ Ry(2.8314) ├»\n",
      "«     └┬────────────┤├───────────┴┐└─┬─┘└────────────┘└────────────┘»\n",
      "«q_1: ─┤ Ry(2.3957) ├┤ Rx(3.4339) ├──■──────────────────────────────»\n",
      "«      └────────────┘└────────────┘                                 »\n",
      "«c: 2/══════════════════════════════════════════════════════════════»\n",
      "«                                                                   »\n",
      "«     ┌────────────┐┌─┐\n",
      "«q_0: ┤ Rx(1.1545) ├┤M├\n",
      "«     └────────────┘└╥┘\n",
      "«q_1: ───────────────╫─\n",
      "«                    ║ \n",
      "«c: 2/═══════════════╩═\n",
      "«                    0 \n",
      "[0.5527610810114508, 3.144170070474607, 1.0243858035675732, 0.707001849510587, 3.0038585193238103, -0.27692814524704423, 0.687723802622043, 1.5263521737131929, 1.2608264948191916, 2.271942775817044, 1.3265931111816607, 2.8304725784133353, 2.274637014171592, 0.9991330667893017, 1.387021823102363, 0.7283718771421767, 2.39565687629654, 3.4338638571787623, 0.40529659885005315, 2.831442771227841, 1.1544891898312348]\n"
     ]
    }
   ],
   "source": [
    "#compare circuits\n",
    "from qulacsvis import circuit_drawer\n",
    "circuit_drawer(st_model.vqe_gates.circuit)\n",
    "print(model.cicuit.draw())\n",
    "print(st_model.vqe_gates.get_params())\n"
   ]
  },
  {
   "cell_type": "code",
   "execution_count": null,
   "metadata": {},
   "outputs": [],
   "source": [
    "# you will need to set your api token to run actual quantum machines\n",
    "from qiskit import IBMQ\n",
    "IBMQ.save_account('MY_API_TOKEN')"
   ]
  },
  {
   "cell_type": "code",
   "execution_count": 27,
   "metadata": {},
   "outputs": [
    {
     "name": "stdout",
     "output_type": "stream",
     "text": [
      "initiated ibmq_bogota\n",
      "[-0.89373088] 0.03600000000000003\n",
      "[-0.49080873] -0.06799999999999995\n",
      "[-0.44520069] -0.01200000000000001\n",
      "[0.59939932] 0.6160000000000001\n",
      "[0.74995936] 0.6279999999999999\n",
      "[0.59259265] 0.542\n",
      "[0.79645212] 0.526\n",
      "[-0.05583564] 0.15799999999999992\n",
      "[-1.] 0.06000000000000005\n",
      "[1.] 0.494\n"
     ]
    },
    {
     "data": {
      "text/plain": [
       "[0.47701687384725,\n",
       " 0.19122652403491824,\n",
       " 0.014400000000000055,\n",
       " 0.9761440000000016]"
      ]
     },
     "execution_count": 27,
     "metadata": {},
     "output_type": "execute_result"
    },
    {
     "data": {
      "image/png": "[encoded data removed]",
      "text/plain": [
       "<Figure size 300x300 with 1 Axes>"
      ]
     },
     "metadata": {
      "needs_background": "light"
     },
     "output_type": "display_data"
    }
   ],
   "source": [
    "#predict actual quantum computing (takes a very long time!)\n",
    "model.init_IBMQ(machine=\"ibmq_bogota\")\n",
    "model.simulate=False\n",
    "\n",
    "#predict\n",
    "plt.figure(figsize=(2,2),dpi=150)\n",
    "ax = plt.gca()\n",
    "eval(ax,model,tr_X,tr_y,te_inner_X,te_inner_y,te_low_X,te_low_y,te_high_X,te_high_y,act_X,act_y,plot=True)"
   ]
  },
  {
   "cell_type": "code",
   "execution_count": null,
   "metadata": {},
   "outputs": [],
   "source": []
  }
 ],
 "metadata": {
  "interpreter": {
   "hash": "4c1a8ccffb77acebb7976972a0aae875eac3abc1a0a204ec305cf19b1a26ab81"
  },
  "kernelspec": {
   "display_name": "Python 3.9.12 ('qcl')",
   "language": "python",
   "name": "python3"
  },
  "language_info": {
   "codemirror_mode": {
    "name": "ipython",
    "version": 3
   },
   "file_extension": ".py",
   "mimetype": "text/x-python",
   "name": "python",
   "nbconvert_exporter": "python",
   "pygments_lexer": "ipython3",
   "version": "3.9.12"
  },
  "orig_nbformat": 4
 },
 "nbformat": 4,
 "nbformat_minor": 2
}
