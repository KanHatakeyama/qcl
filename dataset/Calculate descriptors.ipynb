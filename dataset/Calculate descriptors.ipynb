{
 "cells": [
  {
   "cell_type": "markdown",
   "metadata": {},
   "source": [
    "# Making chemical dataset using standard databases\n",
    "- Molecular descriptors by RDKit are used\n",
    "- Database is available at\n",
    "    - https://github.com/GLambard/Molecules_Dataset_Collection\n",
    "    - https://figshare.com/articles/dataset/Jean_Claude_Bradley_Open_Melting_Point_Datset/1031637"
   ]
  },
  {
   "cell_type": "code",
   "execution_count": 4,
   "metadata": {},
   "outputs": [],
   "source": [
    "import pandas as pd\n",
    "from Autodescriptor import AutoDescriptor\n",
    "import joblib\n",
    "calculator=AutoDescriptor()"
   ]
  },
  {
   "cell_type": "code",
   "execution_count": 6,
   "metadata": {},
   "outputs": [
    {
     "data": {
      "text/plain": [
       "['database/FreeSolv.bin']"
      ]
     },
     "execution_count": 6,
     "metadata": {},
     "output_type": "execute_result"
    }
   ],
   "source": [
    "\n",
    "csv_path=\"Molecules_Dataset_Collection-master/latest/FreeSolv_SAMPL.csv\"\n",
    "db_path=\"database/FreeSolv.bin\"\n",
    "df=pd.read_csv(csv_path)\n",
    "\n",
    "desc_df=calculator(list(df[\"smiles\"]))\n",
    "desc_df[\"expt\"]=df[\"expt\"]\n",
    "joblib.dump(desc_df,db_path)"
   ]
  },
  {
   "cell_type": "code",
   "execution_count": 9,
   "metadata": {},
   "outputs": [
    {
     "data": {
      "text/plain": [
       "['database/ESOL.bin']"
      ]
     },
     "execution_count": 9,
     "metadata": {},
     "output_type": "execute_result"
    }
   ],
   "source": [
    "csv_path=\"Molecules_Dataset_Collection-master/latest/ESOL_delaney-processed.csv\"\n",
    "db_path=\"database/ESOL.bin\"\n",
    "df=pd.read_csv(csv_path)\n",
    "\n",
    "desc_df=calculator(list(df[\"smiles\"]))\n",
    "desc_df[\"expt\"]=df[\"measured log solubility in mols per litre\"]\n",
    "joblib.dump(desc_df,db_path)"
   ]
  },
  {
   "cell_type": "code",
   "execution_count": 10,
   "metadata": {},
   "outputs": [
    {
     "data": {
      "text/plain": [
       "['database/Lipo.bin']"
      ]
     },
     "execution_count": 10,
     "metadata": {},
     "output_type": "execute_result"
    }
   ],
   "source": [
    "csv_path=\"Molecules_Dataset_Collection-master/latest/Lipophilicity.csv\"\n",
    "db_path=\"database/Lipo.bin\"\n",
    "df=pd.read_csv(csv_path)\n",
    "\n",
    "desc_df=calculator(list(df[\"smiles\"]))\n",
    "desc_df[\"expt\"]=df[\"exp\"]\n",
    "joblib.dump(desc_df,db_path)"
   ]
  },
  {
   "cell_type": "code",
   "execution_count": 11,
   "metadata": {},
   "outputs": [
    {
     "data": {
      "text/plain": [
       "['database/Bradley.bin']"
      ]
     },
     "execution_count": 11,
     "metadata": {},
     "output_type": "execute_result"
    }
   ],
   "source": [
    "\n",
    "csv_path=\"BradleyDoublePlusGoodMeltingPointDataset_logP.csv\"\n",
    "db_path=\"database/Bradley.bin\"\n",
    "df=pd.read_csv(csv_path)\n",
    "\n",
    "desc_df=calculator(list(df[\"SMILES\"]))\n",
    "desc_df[\"expt\"]=df[\"MP\"]\n",
    "joblib.dump(desc_df,db_path)"
   ]
  },
  {
   "cell_type": "code",
   "execution_count": null,
   "metadata": {},
   "outputs": [],
   "source": []
  }
 ],
 "metadata": {
  "interpreter": {
   "hash": "4c1a8ccffb77acebb7976972a0aae875eac3abc1a0a204ec305cf19b1a26ab81"
  },
  "kernelspec": {
   "display_name": "Python 3.9.12 ('qcl')",
   "language": "python",
   "name": "python3"
  },
  "language_info": {
   "codemirror_mode": {
    "name": "ipython",
    "version": 3
   },
   "file_extension": ".py",
   "mimetype": "text/x-python",
   "name": "python",
   "nbconvert_exporter": "python",
   "pygments_lexer": "ipython3",
   "version": "3.9.12"
  },
  "orig_nbformat": 4
 },
 "nbformat": 4,
 "nbformat_minor": 2
}
