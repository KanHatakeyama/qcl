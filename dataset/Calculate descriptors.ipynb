{
 "cells": [
  {
   "cell_type": "markdown",
   "metadata": {},
   "source": [
    "# Making chemical dataset using standard databases\n",
    "- Molecular descriptors by RDKit are used\n",
    "- Database is available at\n",
    "    - https://github.com/GLambard/Molecules_Dataset_Collection\n",
    "    - https://figshare.com/articles/dataset/Jean_Claude_Bradley_Open_Melting_Point_Datset/1031637"
   ]
  },
  {
   "cell_type": "code",
   "execution_count": 1,
   "metadata": {},
   "outputs": [],
   "source": [
    "import pandas as pd\n",
    "from Autodescriptor import AutoDescriptor\n",
    "import joblib\n",
    "calculator=AutoDescriptor()"
   ]
  },
  {
   "cell_type": "code",
   "execution_count": 2,
   "metadata": {},
   "outputs": [
    {
     "data": {
      "text/plain": [
       "['RDKit_desc_MaxEStateIndex',\n",
       " 'RDKit_desc_MinEStateIndex',\n",
       " 'RDKit_desc_MaxAbsEStateIndex',\n",
       " 'RDKit_desc_MinAbsEStateIndex',\n",
       " 'RDKit_desc_qed',\n",
       " 'RDKit_desc_MolWt',\n",
       " 'RDKit_desc_HeavyAtomMolWt',\n",
       " 'RDKit_desc_ExactMolWt',\n",
       " 'RDKit_desc_NumValenceElectrons',\n",
       " 'RDKit_desc_NumRadicalElectrons',\n",
       " 'RDKit_desc_MaxPartialCharge',\n",
       " 'RDKit_desc_MinPartialCharge',\n",
       " 'RDKit_desc_MaxAbsPartialCharge',\n",
       " 'RDKit_desc_MinAbsPartialCharge',\n",
       " 'RDKit_desc_FpDensityMorgan1',\n",
       " 'RDKit_desc_FpDensityMorgan2',\n",
       " 'RDKit_desc_FpDensityMorgan3',\n",
       " 'RDKit_desc_BCUT2D_MWHI',\n",
       " 'RDKit_desc_BCUT2D_MWLOW',\n",
       " 'RDKit_desc_BCUT2D_CHGHI',\n",
       " 'RDKit_desc_BCUT2D_CHGLO',\n",
       " 'RDKit_desc_BCUT2D_LOGPHI',\n",
       " 'RDKit_desc_BCUT2D_LOGPLOW',\n",
       " 'RDKit_desc_BCUT2D_MRHI',\n",
       " 'RDKit_desc_BCUT2D_MRLOW',\n",
       " 'RDKit_desc_BalabanJ',\n",
       " 'RDKit_desc_BertzCT',\n",
       " 'RDKit_desc_Chi0',\n",
       " 'RDKit_desc_Chi0n',\n",
       " 'RDKit_desc_Chi0v',\n",
       " 'RDKit_desc_Chi1',\n",
       " 'RDKit_desc_Chi1n',\n",
       " 'RDKit_desc_Chi1v',\n",
       " 'RDKit_desc_Chi2n',\n",
       " 'RDKit_desc_Chi2v',\n",
       " 'RDKit_desc_Chi3n',\n",
       " 'RDKit_desc_Chi3v',\n",
       " 'RDKit_desc_Chi4n',\n",
       " 'RDKit_desc_Chi4v',\n",
       " 'RDKit_desc_HallKierAlpha',\n",
       " 'RDKit_desc_Ipc',\n",
       " 'RDKit_desc_Kappa1',\n",
       " 'RDKit_desc_Kappa2',\n",
       " 'RDKit_desc_Kappa3',\n",
       " 'RDKit_desc_LabuteASA',\n",
       " 'RDKit_desc_PEOE_VSA1',\n",
       " 'RDKit_desc_PEOE_VSA10',\n",
       " 'RDKit_desc_PEOE_VSA11',\n",
       " 'RDKit_desc_PEOE_VSA12',\n",
       " 'RDKit_desc_PEOE_VSA13',\n",
       " 'RDKit_desc_PEOE_VSA14',\n",
       " 'RDKit_desc_PEOE_VSA2',\n",
       " 'RDKit_desc_PEOE_VSA3',\n",
       " 'RDKit_desc_PEOE_VSA4',\n",
       " 'RDKit_desc_PEOE_VSA5',\n",
       " 'RDKit_desc_PEOE_VSA6',\n",
       " 'RDKit_desc_PEOE_VSA7',\n",
       " 'RDKit_desc_PEOE_VSA8',\n",
       " 'RDKit_desc_PEOE_VSA9',\n",
       " 'RDKit_desc_SMR_VSA1',\n",
       " 'RDKit_desc_SMR_VSA10',\n",
       " 'RDKit_desc_SMR_VSA2',\n",
       " 'RDKit_desc_SMR_VSA3',\n",
       " 'RDKit_desc_SMR_VSA4',\n",
       " 'RDKit_desc_SMR_VSA5',\n",
       " 'RDKit_desc_SMR_VSA6',\n",
       " 'RDKit_desc_SMR_VSA7',\n",
       " 'RDKit_desc_SMR_VSA8',\n",
       " 'RDKit_desc_SMR_VSA9',\n",
       " 'RDKit_desc_SlogP_VSA1',\n",
       " 'RDKit_desc_SlogP_VSA10',\n",
       " 'RDKit_desc_SlogP_VSA11',\n",
       " 'RDKit_desc_SlogP_VSA12',\n",
       " 'RDKit_desc_SlogP_VSA2',\n",
       " 'RDKit_desc_SlogP_VSA3',\n",
       " 'RDKit_desc_SlogP_VSA4',\n",
       " 'RDKit_desc_SlogP_VSA5',\n",
       " 'RDKit_desc_SlogP_VSA6',\n",
       " 'RDKit_desc_SlogP_VSA7',\n",
       " 'RDKit_desc_SlogP_VSA8',\n",
       " 'RDKit_desc_SlogP_VSA9',\n",
       " 'RDKit_desc_TPSA',\n",
       " 'RDKit_desc_EState_VSA1',\n",
       " 'RDKit_desc_EState_VSA10',\n",
       " 'RDKit_desc_EState_VSA11',\n",
       " 'RDKit_desc_EState_VSA2',\n",
       " 'RDKit_desc_EState_VSA3',\n",
       " 'RDKit_desc_EState_VSA4',\n",
       " 'RDKit_desc_EState_VSA5',\n",
       " 'RDKit_desc_EState_VSA6',\n",
       " 'RDKit_desc_EState_VSA7',\n",
       " 'RDKit_desc_EState_VSA8',\n",
       " 'RDKit_desc_EState_VSA9',\n",
       " 'RDKit_desc_VSA_EState1',\n",
       " 'RDKit_desc_VSA_EState10',\n",
       " 'RDKit_desc_VSA_EState2',\n",
       " 'RDKit_desc_VSA_EState3',\n",
       " 'RDKit_desc_VSA_EState4',\n",
       " 'RDKit_desc_VSA_EState5',\n",
       " 'RDKit_desc_VSA_EState6',\n",
       " 'RDKit_desc_VSA_EState7',\n",
       " 'RDKit_desc_VSA_EState8',\n",
       " 'RDKit_desc_VSA_EState9',\n",
       " 'RDKit_desc_FractionCSP3',\n",
       " 'RDKit_desc_HeavyAtomCount',\n",
       " 'RDKit_desc_NHOHCount',\n",
       " 'RDKit_desc_NOCount',\n",
       " 'RDKit_desc_NumAliphaticCarbocycles',\n",
       " 'RDKit_desc_NumAliphaticHeterocycles',\n",
       " 'RDKit_desc_NumAliphaticRings',\n",
       " 'RDKit_desc_NumAromaticCarbocycles',\n",
       " 'RDKit_desc_NumAromaticHeterocycles',\n",
       " 'RDKit_desc_NumAromaticRings',\n",
       " 'RDKit_desc_NumHAcceptors',\n",
       " 'RDKit_desc_NumHDonors',\n",
       " 'RDKit_desc_NumHeteroatoms',\n",
       " 'RDKit_desc_NumRotatableBonds',\n",
       " 'RDKit_desc_NumSaturatedCarbocycles',\n",
       " 'RDKit_desc_NumSaturatedHeterocycles',\n",
       " 'RDKit_desc_NumSaturatedRings',\n",
       " 'RDKit_desc_RingCount',\n",
       " 'RDKit_desc_MolLogP',\n",
       " 'RDKit_desc_MolMR',\n",
       " 'RDKit_desc_fr_Al_COO',\n",
       " 'RDKit_desc_fr_Al_OH',\n",
       " 'RDKit_desc_fr_Al_OH_noTert',\n",
       " 'RDKit_desc_fr_ArN',\n",
       " 'RDKit_desc_fr_Ar_COO',\n",
       " 'RDKit_desc_fr_Ar_N',\n",
       " 'RDKit_desc_fr_Ar_NH',\n",
       " 'RDKit_desc_fr_Ar_OH',\n",
       " 'RDKit_desc_fr_COO',\n",
       " 'RDKit_desc_fr_COO2',\n",
       " 'RDKit_desc_fr_C_O',\n",
       " 'RDKit_desc_fr_C_O_noCOO',\n",
       " 'RDKit_desc_fr_C_S',\n",
       " 'RDKit_desc_fr_HOCCN',\n",
       " 'RDKit_desc_fr_Imine',\n",
       " 'RDKit_desc_fr_NH0',\n",
       " 'RDKit_desc_fr_NH1',\n",
       " 'RDKit_desc_fr_NH2',\n",
       " 'RDKit_desc_fr_N_O',\n",
       " 'RDKit_desc_fr_Ndealkylation1',\n",
       " 'RDKit_desc_fr_Ndealkylation2',\n",
       " 'RDKit_desc_fr_Nhpyrrole',\n",
       " 'RDKit_desc_fr_SH',\n",
       " 'RDKit_desc_fr_aldehyde',\n",
       " 'RDKit_desc_fr_alkyl_carbamate',\n",
       " 'RDKit_desc_fr_alkyl_halide',\n",
       " 'RDKit_desc_fr_allylic_oxid',\n",
       " 'RDKit_desc_fr_amide',\n",
       " 'RDKit_desc_fr_amidine',\n",
       " 'RDKit_desc_fr_aniline',\n",
       " 'RDKit_desc_fr_aryl_methyl',\n",
       " 'RDKit_desc_fr_azide',\n",
       " 'RDKit_desc_fr_azo',\n",
       " 'RDKit_desc_fr_barbitur',\n",
       " 'RDKit_desc_fr_benzene',\n",
       " 'RDKit_desc_fr_benzodiazepine',\n",
       " 'RDKit_desc_fr_bicyclic',\n",
       " 'RDKit_desc_fr_diazo',\n",
       " 'RDKit_desc_fr_dihydropyridine',\n",
       " 'RDKit_desc_fr_epoxide',\n",
       " 'RDKit_desc_fr_ester',\n",
       " 'RDKit_desc_fr_ether',\n",
       " 'RDKit_desc_fr_furan',\n",
       " 'RDKit_desc_fr_guanido',\n",
       " 'RDKit_desc_fr_halogen',\n",
       " 'RDKit_desc_fr_hdrzine',\n",
       " 'RDKit_desc_fr_hdrzone',\n",
       " 'RDKit_desc_fr_imidazole',\n",
       " 'RDKit_desc_fr_imide',\n",
       " 'RDKit_desc_fr_isocyan',\n",
       " 'RDKit_desc_fr_isothiocyan',\n",
       " 'RDKit_desc_fr_ketone',\n",
       " 'RDKit_desc_fr_ketone_Topliss',\n",
       " 'RDKit_desc_fr_lactam',\n",
       " 'RDKit_desc_fr_lactone',\n",
       " 'RDKit_desc_fr_methoxy',\n",
       " 'RDKit_desc_fr_morpholine',\n",
       " 'RDKit_desc_fr_nitrile',\n",
       " 'RDKit_desc_fr_nitro',\n",
       " 'RDKit_desc_fr_nitro_arom',\n",
       " 'RDKit_desc_fr_nitro_arom_nonortho',\n",
       " 'RDKit_desc_fr_nitroso',\n",
       " 'RDKit_desc_fr_oxazole',\n",
       " 'RDKit_desc_fr_oxime',\n",
       " 'RDKit_desc_fr_para_hydroxylation',\n",
       " 'RDKit_desc_fr_phenol',\n",
       " 'RDKit_desc_fr_phenol_noOrthoHbond',\n",
       " 'RDKit_desc_fr_phos_acid',\n",
       " 'RDKit_desc_fr_phos_ester',\n",
       " 'RDKit_desc_fr_piperdine',\n",
       " 'RDKit_desc_fr_piperzine',\n",
       " 'RDKit_desc_fr_priamide',\n",
       " 'RDKit_desc_fr_prisulfonamd',\n",
       " 'RDKit_desc_fr_pyridine',\n",
       " 'RDKit_desc_fr_quatN',\n",
       " 'RDKit_desc_fr_sulfide',\n",
       " 'RDKit_desc_fr_sulfonamd',\n",
       " 'RDKit_desc_fr_sulfone',\n",
       " 'RDKit_desc_fr_term_acetylene',\n",
       " 'RDKit_desc_fr_tetrazole',\n",
       " 'RDKit_desc_fr_thiazole',\n",
       " 'RDKit_desc_fr_thiocyan',\n",
       " 'RDKit_desc_fr_thiophene',\n",
       " 'RDKit_desc_fr_unbrch_alkane',\n",
       " 'RDKit_desc_fr_urea']"
      ]
     },
     "execution_count": 2,
     "metadata": {},
     "output_type": "execute_result"
    }
   ],
   "source": [
    "#Descriptor names\n",
    "calculator.descriptor_names"
   ]
  },
  {
   "cell_type": "code",
   "execution_count": 6,
   "metadata": {},
   "outputs": [
    {
     "data": {
      "text/plain": [
       "['database/FreeSolv.bin']"
      ]
     },
     "execution_count": 6,
     "metadata": {},
     "output_type": "execute_result"
    }
   ],
   "source": [
    "\n",
    "csv_path=\"Molecules_Dataset_Collection-master/latest/FreeSolv_SAMPL.csv\"\n",
    "db_path=\"database/FreeSolv.bin\"\n",
    "df=pd.read_csv(csv_path)\n",
    "\n",
    "desc_df=calculator(list(df[\"smiles\"]))\n",
    "desc_df[\"expt\"]=df[\"expt\"]\n",
    "joblib.dump(desc_df,db_path)"
   ]
  },
  {
   "cell_type": "code",
   "execution_count": 9,
   "metadata": {},
   "outputs": [
    {
     "data": {
      "text/plain": [
       "['database/ESOL.bin']"
      ]
     },
     "execution_count": 9,
     "metadata": {},
     "output_type": "execute_result"
    }
   ],
   "source": [
    "csv_path=\"Molecules_Dataset_Collection-master/latest/ESOL_delaney-processed.csv\"\n",
    "db_path=\"database/ESOL.bin\"\n",
    "df=pd.read_csv(csv_path)\n",
    "\n",
    "desc_df=calculator(list(df[\"smiles\"]))\n",
    "desc_df[\"expt\"]=df[\"measured log solubility in mols per litre\"]\n",
    "joblib.dump(desc_df,db_path)"
   ]
  },
  {
   "cell_type": "code",
   "execution_count": 10,
   "metadata": {},
   "outputs": [
    {
     "data": {
      "text/plain": [
       "['database/Lipo.bin']"
      ]
     },
     "execution_count": 10,
     "metadata": {},
     "output_type": "execute_result"
    }
   ],
   "source": [
    "csv_path=\"Molecules_Dataset_Collection-master/latest/Lipophilicity.csv\"\n",
    "db_path=\"database/Lipo.bin\"\n",
    "df=pd.read_csv(csv_path)\n",
    "\n",
    "desc_df=calculator(list(df[\"smiles\"]))\n",
    "desc_df[\"expt\"]=df[\"exp\"]\n",
    "joblib.dump(desc_df,db_path)"
   ]
  },
  {
   "cell_type": "code",
   "execution_count": 11,
   "metadata": {},
   "outputs": [
    {
     "data": {
      "text/plain": [
       "['database/Bradley.bin']"
      ]
     },
     "execution_count": 11,
     "metadata": {},
     "output_type": "execute_result"
    }
   ],
   "source": [
    "\n",
    "csv_path=\"BradleyDoublePlusGoodMeltingPointDataset_logP.csv\"\n",
    "db_path=\"database/Bradley.bin\"\n",
    "df=pd.read_csv(csv_path)\n",
    "\n",
    "desc_df=calculator(list(df[\"SMILES\"]))\n",
    "desc_df[\"expt\"]=df[\"MP\"]\n",
    "joblib.dump(desc_df,db_path)"
   ]
  },
  {
   "cell_type": "code",
   "execution_count": null,
   "metadata": {},
   "outputs": [],
   "source": []
  }
 ],
 "metadata": {
  "interpreter": {
   "hash": "4c1a8ccffb77acebb7976972a0aae875eac3abc1a0a204ec305cf19b1a26ab81"
  },
  "kernelspec": {
   "display_name": "Python 3.9.12 ('qcl')",
   "language": "python",
   "name": "python3"
  },
  "language_info": {
   "codemirror_mode": {
    "name": "ipython",
    "version": 3
   },
   "file_extension": ".py",
   "mimetype": "text/x-python",
   "name": "python",
   "nbconvert_exporter": "python",
   "pygments_lexer": "ipython3",
   "version": "3.9.12"
  },
  "orig_nbformat": 4
 },
 "nbformat": 4,
 "nbformat_minor": 2
}
